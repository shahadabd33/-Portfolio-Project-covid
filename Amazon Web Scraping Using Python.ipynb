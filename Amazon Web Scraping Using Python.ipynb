{
 "cells": [
  {
   "cell_type": "markdown",
   "id": "21ef379c-d1f8-4c38-b672-5e4ace59bbff",
   "metadata": {},
   "source": [
    "# Amazon Web Scraping Using Python"
   ]
  },
  {
   "cell_type": "code",
   "execution_count": 1,
   "id": "1fd711fd-bd19-40f3-a861-40544cc2e3bf",
   "metadata": {},
   "outputs": [],
   "source": [
    "# import liberies\n",
    "from bs4 import BeautifulSoup\n",
    "import requests\n",
    "import time\n",
    "import datetime\n",
    "import smtplib"
   ]
  },
  {
   "cell_type": "code",
   "execution_count": 87,
   "id": "330edf1c-b7df-46c8-a16a-0c4ed8b70fbb",
   "metadata": {},
   "outputs": [
    {
     "name": "stdout",
     "output_type": "stream",
     "text": [
      "\n",
      "                  Got Data Funny Business Data Analyst T-Shirt\n",
      "                 \n",
      "20 ratings\n"
     ]
    }
   ],
   "source": [
    "#concect to the web\n",
    "URL='https://www.amazon.com/Funny-Data-Systems-Business-Analyst/dp/B07FNW9FGJ/ref=sr_1_3?dchild=1&keywords=data%2Banalyst%2Btshirt&qid=1626655184&sr=8-3&customId=B0752XJYNL&th=1'\n",
    "\n",
    "headers= {\"User-Agent\": \"Mozilla/5.0 (Windows NT 10.0; Win64; x64) AppleWebKit/537.36 (KHTML, like Gecko) Chrome/131.0.0.0 Safari/537.36\" ,  \"Accept-Encoding\":\"gzip, deflate\", \"Accept\":\"text/html,application/xhtml+xml,application/xml;q=0.9,*/*;q=0.8\", \"DNT\":\"1\",\"Connection\":\"close\", \"Upgrade-Insecure-Requests\":\"1\"}\n",
    "\n",
    "page= requests.get(URL,headers=headers)\n",
    "soup1 = BeautifulSoup(page.content, \"lxml\")\n",
    "soup2=BeautifulSoup(soup1.prettify(),\"lxml\")\n",
    "\n",
    "title=soup2.find(id='productTitle').get_text()\n",
    "rate = soup2.find(id='acrCustomerReviewText').get_text(strip=True)\n",
    "\n",
    "\n",
    "\n",
    "\n",
    "\n",
    "\n",
    "print(title)\n",
    "print(rate)\n"
   ]
  },
  {
   "cell_type": "code",
   "execution_count": 89,
   "id": "90308502-fc95-4640-baf8-29de605cf22a",
   "metadata": {},
   "outputs": [
    {
     "name": "stdout",
     "output_type": "stream",
     "text": [
      "Got Data Funny Business Data Analyst T-Shirt\n",
      "20 ratings\n"
     ]
    }
   ],
   "source": [
    "title=title.strip()\n",
    "rate=rate.strip()\n",
    "print(title)\n",
    "print(rate)"
   ]
  },
  {
   "cell_type": "code",
   "execution_count": 107,
   "id": "90a2fcef-9730-4246-9b83-54b587a6a8a0",
   "metadata": {},
   "outputs": [
    {
     "name": "stdout",
     "output_type": "stream",
     "text": [
      "2024-12-16\n"
     ]
    }
   ],
   "source": [
    "import datetime\n",
    "today=datetime.date.today()\n",
    "print(today)"
   ]
  },
  {
   "cell_type": "code",
   "execution_count": 109,
   "id": "41de49be-03bf-4c7a-8914-2aa3f7244f3c",
   "metadata": {},
   "outputs": [],
   "source": [
    "import csv\n",
    "header=['title','rate','Date']\n",
    "data=[title,rate,today]\n",
    "\n",
    "with open('AmazonWebScraperDataset.csv','w',newline='',encoding='UTF8') as f:\n",
    "  writer = csv.writer(f)\n",
    "  writer.writerow(header)\n",
    "  writer.writerow(data)\n"
   ]
  },
  {
   "cell_type": "code",
   "execution_count": 127,
   "id": "77d6848e-d772-4700-a9c6-99f6eae4877f",
   "metadata": {},
   "outputs": [
    {
     "name": "stdout",
     "output_type": "stream",
     "text": [
      "   Got Data Funny Business Data Analyst T-Shirt  20 ratings  2024-12-16\n",
      "0  Got Data Funny Business Data Analyst T-Shirt  20 ratings  2024-12-16\n",
      "1  Got Data Funny Business Data Analyst T-Shirt  20 ratings  2024-12-16\n",
      "2  Got Data Funny Business Data Analyst T-Shirt  20 ratings  2024-12-16\n"
     ]
    }
   ],
   "source": [
    "import pandas as pd \n",
    "df= pd.read_csv(r'C:\\Users\\GroupX\\AmazonWebScraperDataset.csv')\n",
    "print(df)"
   ]
  },
  {
   "cell_type": "code",
   "execution_count": 125,
   "id": "975496e6-aa6e-45ab-bee3-6c7e33dd28c3",
   "metadata": {},
   "outputs": [],
   "source": [
    "# we ar now appending data to the csv\n",
    "with open('AmazonWebScraperDataset.csv','a+',newline='',encoding='UTF8') as f:\n",
    "  writer = csv.writer(f)\n",
    "    \n",
    "  \n",
    "  writer.writerow(data)"
   ]
  },
  {
   "cell_type": "code",
   "execution_count": 143,
   "id": "4f1a6510-937b-4c6e-9fba-76536d5b6cc2",
   "metadata": {},
   "outputs": [],
   "source": [
    "def check_price():\n",
    "    URL='https://www.amazon.com/Funny-Data-Systems-Business-Analyst/dp/B07FNW9FGJ/ref=sr_1_3?dchild=1&keywords=data%2Banalyst%2Btshirt&qid=1626655184&sr=8-3&customId=B0752XJYNL&th=1'\n",
    "\n",
    "    headers= {\"User-Agent\": \"Mozilla/5.0 (Windows NT 10.0; Win64; x64) AppleWebKit/537.36 (KHTML, like Gecko) Chrome/131.0.0.0 Safari/537.36\" ,  \"Accept-Encoding\":\"gzip, deflate\", \"Accept\":\"text/html,application/xhtml+xml,application/xml;q=0.9,*/*;q=0.8\", \"DNT\":\"1\",\"Connection\":\"close\", \"Upgrade-Insecure-Requests\":\"1\"}\n",
    "\n",
    "    page= requests.get(URL,headers=headers)\n",
    "    soup1 = BeautifulSoup(page.content, \"lxml\")\n",
    "    soup2=BeautifulSoup(soup1.prettify(),\"lxml\")\n",
    "    title=soup2.find(id='productTitle').get_text()\n",
    "    rate = soup2.find(id='acrCustomerReviewText').get_text(strip=True)\n",
    "    title=title.strip()\n",
    "    rate=rate.strip()\n",
    "    import datetime\n",
    "    today=datetime.date.today()\n",
    "    import csv\n",
    "    header=['title','rate','Date']\n",
    "    data=[title,rate,today]\n",
    "    with open('AmazonWebScraperDataset.csv','a+',newline='',encoding='UTF8') as f:\n",
    "      writer = csv.writer(f)\n",
    "      writer.writerow(data)\n",
    " if(rate<15):\n",
    "  send_email()  \n",
    "\n"
   ]
  },
  {
   "cell_type": "code",
   "execution_count": 150,
   "id": "a5ba33e6-79e9-4053-bca4-e58a124d84a5",
   "metadata": {},
   "outputs": [],
   "source": [
    "# Runs check_price after a set time and inputs data into your CSV\n",
    "\n",
    "#while(True):\n",
    " #   check_price()\n",
    " #   time.sleep(846400)\n",
    "    \n"
   ]
  },
  {
   "cell_type": "code",
   "execution_count": 148,
   "id": "d8a68ab4-e85b-4c1a-ad2d-ccd6afc41e93",
   "metadata": {},
   "outputs": [
    {
     "name": "stdout",
     "output_type": "stream",
     "text": [
      "   Got Data Funny Business Data Analyst T-Shirt  20 ratings  2024-12-16\n",
      "0  Got Data Funny Business Data Analyst T-Shirt  20 ratings  2024-12-16\n",
      "1  Got Data Funny Business Data Analyst T-Shirt  20 ratings  2024-12-16\n",
      "2  Got Data Funny Business Data Analyst T-Shirt  20 ratings  2024-12-16\n",
      "3  Got Data Funny Business Data Analyst T-Shirt  20 ratings  2024-12-16\n",
      "4  Got Data Funny Business Data Analyst T-Shirt  20 ratings  2024-12-16\n",
      "5  Got Data Funny Business Data Analyst T-Shirt  20 ratings  2024-12-16\n",
      "6  Got Data Funny Business Data Analyst T-Shirt  20 ratings  2024-12-16\n",
      "7  Got Data Funny Business Data Analyst T-Shirt  20 ratings  2024-12-16\n"
     ]
    }
   ],
   "source": [
    "import pandas as pd \n",
    "df= pd.read_csv(r'C:\\Users\\GroupX\\AmazonWebScraperDataset.csv')\n",
    "print(df)"
   ]
  },
  {
   "cell_type": "code",
   "execution_count": null,
   "id": "24b05d28-96df-43e8-b679-f643cc76aea7",
   "metadata": {},
   "outputs": [],
   "source": [
    "# If uou want to try sending yourself an email (just for fun) when a price hits below a certain level you can try it\n",
    "# out with this script\n",
    "\n",
    "def send_mail():\n",
    "    server = smtplib.SMTP_SSL('smtp.gmail.com',465)\n",
    "    server.ehlo()\n",
    "    #server.starttls()\n",
    "    server.ehlo()\n",
    "    server.login('shaahd347@gmail.com','xxxxxxxxxxxxxx')\n",
    "    \n",
    "    subject = \"The Shirt you want is below $15! Now is your chance to buy!\"\n",
    "    body = \"Alex, This is the moment we have been waiting for. Now is your chance to pick up the shirt of your dreams. Don't mess it up! Link here: https://www.amazon.com/Funny-Data-Systems-Business-Analyst/dp/B07FNW9FGJ/ref=sr_1_3?dchild=1&keywords=data+analyst+tshirt&qid=1626655184&sr=8-3\"\n",
    "   \n",
    "    msg = f\"Subject: {subject}\\n\\n{body}\"\n",
    "    \n",
    "    server.sendmail(\n",
    "        'shaahd347@gmail.com',\n",
    "        msg\n",
    "     \n",
    "    )"
   ]
  }
 ],
 "metadata": {
  "kernelspec": {
   "display_name": "Python [conda env:base] *",
   "language": "python",
   "name": "conda-base-py"
  },
  "language_info": {
   "codemirror_mode": {
    "name": "ipython",
    "version": 3
   },
   "file_extension": ".py",
   "mimetype": "text/x-python",
   "name": "python",
   "nbconvert_exporter": "python",
   "pygments_lexer": "ipython3",
   "version": "3.12.7"
  }
 },
 "nbformat": 4,
 "nbformat_minor": 5
}
